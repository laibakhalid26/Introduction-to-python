{
 "cells": [
  {
   "cell_type": "code",
   "execution_count": 2,
   "id": "c972b019",
   "metadata": {},
   "outputs": [
    {
     "name": "stdout",
     "output_type": "stream",
     "text": [
      "hello world\n"
     ]
    }
   ],
   "source": [
    "print(\"hello world\")"
   ]
  },
  {
   "cell_type": "code",
   "execution_count": 3,
   "id": "0357964e",
   "metadata": {},
   "outputs": [
    {
     "name": "stdout",
     "output_type": "stream",
     "text": [
      "shifa\n"
     ]
    }
   ],
   "source": [
    "print(\"shifa\")"
   ]
  },
  {
   "cell_type": "code",
   "execution_count": 4,
   "id": "edcc8144",
   "metadata": {},
   "outputs": [
    {
     "name": "stdout",
     "output_type": "stream",
     "text": [
      "2\n"
     ]
    }
   ],
   "source": [
    "shifa=2\n",
    "print(shifa)"
   ]
  },
  {
   "cell_type": "code",
   "execution_count": 5,
   "id": "af0e4dd6",
   "metadata": {},
   "outputs": [
    {
     "data": {
      "text/plain": [
       "int"
      ]
     },
     "execution_count": 5,
     "metadata": {},
     "output_type": "execute_result"
    }
   ],
   "source": [
    "type(shifa)"
   ]
  },
  {
   "cell_type": "code",
   "execution_count": 6,
   "id": "152171c4",
   "metadata": {},
   "outputs": [
    {
     "data": {
      "text/plain": [
       "2828936374768"
      ]
     },
     "execution_count": 6,
     "metadata": {},
     "output_type": "execute_result"
    }
   ],
   "source": [
    "id(2+5)"
   ]
  },
  {
   "cell_type": "code",
   "execution_count": 7,
   "id": "4eb41c45",
   "metadata": {},
   "outputs": [
    {
     "data": {
      "text/plain": [
       "2828936374736"
      ]
     },
     "execution_count": 7,
     "metadata": {},
     "output_type": "execute_result"
    }
   ],
   "source": [
    "id(1+5)"
   ]
  },
  {
   "cell_type": "code",
   "execution_count": 8,
   "id": "0941902c",
   "metadata": {},
   "outputs": [
    {
     "name": "stdout",
     "output_type": "stream",
     "text": [
      "2828936374544\n",
      "2828936374704\n",
      "2828936374640\n"
     ]
    }
   ],
   "source": [
    "a=2\n",
    "b=3\n",
    "c=0\n",
    "print(id(c))\n",
    "c=a+b\n",
    "print(id(c))\n",
    "print(id(b))"
   ]
  },
  {
   "cell_type": "code",
   "execution_count": 9,
   "id": "9a452a29",
   "metadata": {},
   "outputs": [
    {
     "data": {
      "text/plain": [
       "2828936374640"
      ]
     },
     "execution_count": 9,
     "metadata": {},
     "output_type": "execute_result"
    }
   ],
   "source": [
    "id(b)"
   ]
  },
  {
   "cell_type": "code",
   "execution_count": 10,
   "id": "c42e1bd5",
   "metadata": {},
   "outputs": [
    {
     "name": "stdout",
     "output_type": "stream",
     "text": [
      "\n",
      "Welcome to Python 3.9's help utility!\n",
      "\n",
      "If this is your first time using Python, you should definitely check out\n",
      "the tutorial on the Internet at https://docs.python.org/3.9/tutorial/.\n",
      "\n",
      "Enter the name of any module, keyword, or topic to get help on writing\n",
      "Python programs and using Python modules.  To quit this help utility and\n",
      "return to the interpreter, just type \"quit\".\n",
      "\n",
      "To get a list of available modules, keywords, symbols, or topics, type\n",
      "\"modules\", \"keywords\", \"symbols\", or \"topics\".  Each module also comes\n",
      "with a one-line summary of what it does; to list the modules whose name\n",
      "or summary contain a given string such as \"spam\", type \"modules spam\".\n",
      "\n",
      "\n",
      "You are now leaving help and returning to the Python interpreter.\n",
      "If you want to ask for help on a particular object directly from the\n",
      "interpreter, you can type \"help(object)\".  Executing \"help('string')\"\n",
      "has the same effect as typing a particular string at the help> prompt.\n"
     ]
    }
   ],
   "source": [
    "help()"
   ]
  },
  {
   "cell_type": "code",
   "execution_count": null,
   "id": "6a749d3d",
   "metadata": {},
   "outputs": [],
   "source": [
    "# Varibles can store different type of data "
   ]
  },
  {
   "cell_type": "code",
   "execution_count": 12,
   "id": "b4049694",
   "metadata": {},
   "outputs": [],
   "source": [
    "#Tuples\n",
    "#strings\n",
    "# dictionaries\n",
    "#lists\n"
   ]
  },
  {
   "cell_type": "code",
   "execution_count": 13,
   "id": "57bc90fe",
   "metadata": {},
   "outputs": [],
   "source": [
    "a=\"My 2 code\""
   ]
  },
  {
   "cell_type": "code",
   "execution_count": 14,
   "id": "02b6d103",
   "metadata": {},
   "outputs": [
    {
     "data": {
      "text/plain": [
       "str"
      ]
     },
     "execution_count": 14,
     "metadata": {},
     "output_type": "execute_result"
    }
   ],
   "source": [
    "type(a)"
   ]
  },
  {
   "cell_type": "code",
   "execution_count": 15,
   "id": "c4a0a726",
   "metadata": {},
   "outputs": [
    {
     "data": {
      "text/plain": [
       "int"
      ]
     },
     "execution_count": 15,
     "metadata": {},
     "output_type": "execute_result"
    }
   ],
   "source": [
    "a=2\n",
    "type(a)"
   ]
  },
  {
   "cell_type": "code",
   "execution_count": 16,
   "id": "628368c4",
   "metadata": {},
   "outputs": [
    {
     "data": {
      "text/plain": [
       "list"
      ]
     },
     "execution_count": 16,
     "metadata": {},
     "output_type": "execute_result"
    }
   ],
   "source": [
    "a=[1,2,3,4]\n",
    "type(a)"
   ]
  },
  {
   "cell_type": "code",
   "execution_count": 17,
   "id": "462954d0",
   "metadata": {},
   "outputs": [
    {
     "data": {
      "text/plain": [
       "dict"
      ]
     },
     "execution_count": 17,
     "metadata": {},
     "output_type": "execute_result"
    }
   ],
   "source": [
    "a={c:1,b:2}\n",
    "type(a)"
   ]
  },
  {
   "cell_type": "code",
   "execution_count": 18,
   "id": "ad71020e",
   "metadata": {},
   "outputs": [],
   "source": [
    "# We are going to make a calculator that takes the input from the user and calculates the sum"
   ]
  },
  {
   "cell_type": "code",
   "execution_count": 19,
   "id": "57ccaf17",
   "metadata": {},
   "outputs": [],
   "source": [
    "# When we require input from the user we use the input command\n",
    "#input(\"enter a\")\n",
    "# Now here the string in the brackets \"enter a\" will pop up on screen while taking input\n",
    "#a=input(\"enter a\")\n",
    "#you can store it in a variable for further use"
   ]
  },
  {
   "cell_type": "code",
   "execution_count": 20,
   "id": "3c4c713f",
   "metadata": {},
   "outputs": [
    {
     "name": "stdout",
     "output_type": "stream",
     "text": [
      "Hello give me a value2\n"
     ]
    }
   ],
   "source": [
    "c=input(\"Hello give me a value\")"
   ]
  },
  {
   "cell_type": "code",
   "execution_count": 21,
   "id": "1e426ea4",
   "metadata": {},
   "outputs": [
    {
     "data": {
      "text/plain": [
       "'2'"
      ]
     },
     "execution_count": 21,
     "metadata": {},
     "output_type": "execute_result"
    }
   ],
   "source": [
    "c"
   ]
  },
  {
   "cell_type": "code",
   "execution_count": 22,
   "id": "4318b7d3",
   "metadata": {},
   "outputs": [
    {
     "name": "stdout",
     "output_type": "stream",
     "text": [
      "Hello give me a value2\n"
     ]
    }
   ],
   "source": [
    "b=input(\"Hello give me a value\")"
   ]
  },
  {
   "cell_type": "code",
   "execution_count": 23,
   "id": "77150416",
   "metadata": {},
   "outputs": [
    {
     "data": {
      "text/plain": [
       "4"
      ]
     },
     "execution_count": 23,
     "metadata": {},
     "output_type": "execute_result"
    }
   ],
   "source": [
    "int(c)+int(b)"
   ]
  },
  {
   "cell_type": "code",
   "execution_count": 24,
   "id": "171483d4",
   "metadata": {},
   "outputs": [
    {
     "data": {
      "text/plain": [
       "2828936374704"
      ]
     },
     "execution_count": 24,
     "metadata": {},
     "output_type": "execute_result"
    }
   ],
   "source": [
    "id(5)\n",
    "\n",
    "\n"
   ]
  },
  {
   "cell_type": "code",
   "execution_count": 25,
   "id": "80d199a5",
   "metadata": {},
   "outputs": [
    {
     "data": {
      "text/plain": [
       "2828936374736"
      ]
     },
     "execution_count": 25,
     "metadata": {},
     "output_type": "execute_result"
    }
   ],
   "source": [
    "id(6)"
   ]
  },
  {
   "cell_type": "code",
   "execution_count": 26,
   "id": "7a68f81d",
   "metadata": {},
   "outputs": [
    {
     "data": {
      "text/plain": [
       "2828936374896"
      ]
     },
     "execution_count": 26,
     "metadata": {},
     "output_type": "execute_result"
    }
   ],
   "source": [
    "id(5+6)"
   ]
  },
  {
   "cell_type": "code",
   "execution_count": 27,
   "id": "b392b222",
   "metadata": {},
   "outputs": [
    {
     "name": "stdout",
     "output_type": "stream",
     "text": [
      "2828936374736\n",
      "2828936374704\n",
      "2828936374896\n"
     ]
    }
   ],
   "source": [
    "a=6\n",
    "b=5\n",
    "print(id(a))\n",
    "print(id(b))\n",
    "c=a+b\n",
    "print(id(c))"
   ]
  },
  {
   "cell_type": "code",
   "execution_count": 28,
   "id": "5dab25d3",
   "metadata": {},
   "outputs": [
    {
     "name": "stdout",
     "output_type": "stream",
     "text": [
      "11\n"
     ]
    }
   ],
   "source": [
    "print(c)\n"
   ]
  },
  {
   "cell_type": "code",
   "execution_count": 29,
   "id": "0e3d4953",
   "metadata": {},
   "outputs": [],
   "source": [
    "a='laiba'"
   ]
  },
  {
   "cell_type": "code",
   "execution_count": 30,
   "id": "30deabe2",
   "metadata": {},
   "outputs": [
    {
     "name": "stdout",
     "output_type": "stream",
     "text": [
      "My Name is laiba\n"
     ]
    }
   ],
   "source": [
    "print(\"My Name is\",a)"
   ]
  },
  {
   "cell_type": "code",
   "execution_count": 31,
   "id": "ba71581b",
   "metadata": {},
   "outputs": [],
   "source": [
    "b='16 years old'"
   ]
  },
  {
   "cell_type": "code",
   "execution_count": 32,
   "id": "42cd1742",
   "metadata": {},
   "outputs": [
    {
     "name": "stdout",
     "output_type": "stream",
     "text": [
      "iam 16 years old\n"
     ]
    }
   ],
   "source": [
    "print(\"iam\",b)"
   ]
  },
  {
   "cell_type": "code",
   "execution_count": 33,
   "id": "a50010a3",
   "metadata": {},
   "outputs": [
    {
     "name": "stdout",
     "output_type": "stream",
     "text": [
      "My name is zohair i am 21 years old i am a chemical engineer\n"
     ]
    }
   ],
   "source": [
    "s=\"My name is zohair\"\n",
    "s1=\"i am 21 years old\"\n",
    "s2=\"i am a chemical engineer\"\n",
    "print(s,s1,s2)"
   ]
  },
  {
   "cell_type": "code",
   "execution_count": 34,
   "id": "682a7fe3",
   "metadata": {},
   "outputs": [
    {
     "name": "stdout",
     "output_type": "stream",
     "text": [
      "uku7k hdjdjd hhhsh\n"
     ]
    }
   ],
   "source": [
    "n='uku7k'\n",
    "m='hdjdjd'\n",
    "k='hhhsh'\n",
    "print(n,m,k)"
   ]
  },
  {
   "cell_type": "code",
   "execution_count": 35,
   "id": "0bcecc3c",
   "metadata": {},
   "outputs": [
    {
     "name": "stdout",
     "output_type": "stream",
     "text": [
      "3 4 9 6\n"
     ]
    }
   ],
   "source": [
    "m='3'\n",
    "l='4'\n",
    "e='9'\n",
    "r='6'\n",
    "print(m,l,e,r)"
   ]
  },
  {
   "cell_type": "code",
   "execution_count": 36,
   "id": "4cafb3fa",
   "metadata": {},
   "outputs": [
    {
     "name": "stdout",
     "output_type": "stream",
     "text": [
      "kll\n"
     ]
    }
   ],
   "source": [
    "s='kll'\n",
    "print(s)"
   ]
  },
  {
   "cell_type": "code",
   "execution_count": 37,
   "id": "664018eb",
   "metadata": {},
   "outputs": [
    {
     "name": "stdout",
     "output_type": "stream",
     "text": [
      "2828936566192\n",
      "2828936565840\n"
     ]
    }
   ],
   "source": [
    "g=99\n",
    "m=88\n",
    "print(id(g))\n",
    "print(id(m))"
   ]
  },
  {
   "cell_type": "code",
   "execution_count": 38,
   "id": "e5c7af40",
   "metadata": {},
   "outputs": [],
   "source": [
    "k=\"laiba\""
   ]
  },
  {
   "cell_type": "code",
   "execution_count": 39,
   "id": "c844507b",
   "metadata": {},
   "outputs": [],
   "source": [
    "m=\"khalid\""
   ]
  },
  {
   "cell_type": "code",
   "execution_count": 40,
   "id": "24513e5d",
   "metadata": {},
   "outputs": [
    {
     "name": "stdout",
     "output_type": "stream",
     "text": [
      "laiba khalid\n"
     ]
    }
   ],
   "source": [
    "print(k,m)"
   ]
  },
  {
   "cell_type": "code",
   "execution_count": 41,
   "id": "da8be040",
   "metadata": {},
   "outputs": [
    {
     "ename": "SyntaxError",
     "evalue": "unmatched ')' (2765912919.py, line 1)",
     "output_type": "error",
     "traceback": [
      "\u001b[1;36m  Input \u001b[1;32mIn [41]\u001b[1;36m\u001b[0m\n\u001b[1;33m    1)Floating:A data type representing numbers with fractional.for example:-8.76,0.0,3.145\u001b[0m\n\u001b[1;37m     ^\u001b[0m\n\u001b[1;31mSyntaxError\u001b[0m\u001b[1;31m:\u001b[0m unmatched ')'\n"
     ]
    }
   ],
   "source": [
    "1)Floating:A data type representing numbers with fractional.for example:-8.76,0.0,3.145\n",
    "2)Boolean:A data type representing logical true or false.for example:true,false\n",
    "3)Integer:A data type representing whole numbers.for example:-5,0,123 \n",
    "4)String:A data type representing a sequence of characters.for example:\"hello world!\"\n",
    "5)nothing:no data.for example:null\n",
    "        \n",
    "        \n",
    "        \n",
    " . your name____A string of charchter.\n",
    "\n",
    ".your age_____usually an integer. \n",
    ".the amount of money in your pocket – usually a value measured in dollars and cents (something with a fractional part).\n"
   ]
  },
  {
   "cell_type": "code",
   "execution_count": 42,
   "id": "446b5706",
   "metadata": {},
   "outputs": [],
   "source": [
    "# is thew data being stored in the variable"
   ]
  },
  {
   "cell_type": "code",
   "execution_count": 43,
   "id": "c19ba7b9",
   "metadata": {},
   "outputs": [
    {
     "name": "stdout",
     "output_type": "stream",
     "text": [
      "2828936374864\n",
      "2828936374864\n"
     ]
    }
   ],
   "source": [
    "a=10\n",
    "b=10\n",
    "print(id(a))\n",
    "print(id(b))\n"
   ]
  },
  {
   "cell_type": "code",
   "execution_count": 44,
   "id": "67ac269c",
   "metadata": {},
   "outputs": [
    {
     "data": {
      "text/plain": [
       "1.5"
      ]
     },
     "execution_count": 44,
     "metadata": {},
     "output_type": "execute_result"
    }
   ],
   "source": [
    "3/2"
   ]
  },
  {
   "cell_type": "code",
   "execution_count": 45,
   "id": "8237776a",
   "metadata": {},
   "outputs": [
    {
     "data": {
      "text/plain": [
       "float"
      ]
     },
     "execution_count": 45,
     "metadata": {},
     "output_type": "execute_result"
    }
   ],
   "source": [
    "a=1.5\n",
    "type(a)\n"
   ]
  },
  {
   "cell_type": "code",
   "execution_count": 46,
   "id": "8ddcbc71",
   "metadata": {},
   "outputs": [
    {
     "name": "stdout",
     "output_type": "stream",
     "text": [
      "6\n"
     ]
    }
   ],
   "source": [
    "x=2\n",
    "a=2+2*x\n",
    "type(a)\n",
    "print(a)"
   ]
  },
  {
   "cell_type": "code",
   "execution_count": 47,
   "id": "9e8d5264",
   "metadata": {},
   "outputs": [
    {
     "data": {
      "text/plain": [
       "(3+2j)"
      ]
     },
     "execution_count": 47,
     "metadata": {},
     "output_type": "execute_result"
    }
   ],
   "source": [
    "complex(3,2)"
   ]
  },
  {
   "cell_type": "code",
   "execution_count": 48,
   "id": "4ec99997",
   "metadata": {},
   "outputs": [
    {
     "name": "stdout",
     "output_type": "stream",
     "text": [
      "False\n",
      "True\n",
      "False\n",
      "True\n",
      "False\n",
      "True\n"
     ]
    }
   ],
   "source": [
    "a=2\n",
    "b=3\n",
    "print(a>b)\n",
    "print(a<b)\n",
    "print(a==b)\n",
    "print(a!=b)\n",
    "print(a>=b)\n",
    "print(a<=b)"
   ]
  },
  {
   "cell_type": "code",
   "execution_count": 49,
   "id": "fdd63d1e",
   "metadata": {},
   "outputs": [
    {
     "name": "stdout",
     "output_type": "stream",
     "text": [
      "False\n",
      "True\n",
      "True\n",
      "True\n"
     ]
    }
   ],
   "source": [
    "print(bool(0))\n",
    "print(bool(1))\n",
    "print(bool(2))\n",
    "print(bool(10))"
   ]
  },
  {
   "cell_type": "code",
   "execution_count": 51,
   "id": "aaf54f73",
   "metadata": {},
   "outputs": [
    {
     "name": "stdout",
     "output_type": "stream",
     "text": [
      "\f",
      "\n"
     ]
    }
   ],
   "source": [
    "cls"
   ]
  },
  {
   "cell_type": "code",
   "execution_count": 52,
   "id": "eef796b8",
   "metadata": {},
   "outputs": [
    {
     "name": "stdout",
     "output_type": "stream",
     "text": [
      "2 23 2.5\n"
     ]
    }
   ],
   "source": [
    "f=2\n",
    "i=2.5\n",
    "s=23\n",
    "print(f,s,i)"
   ]
  },
  {
   "cell_type": "code",
   "execution_count": 53,
   "id": "db691e73",
   "metadata": {},
   "outputs": [
    {
     "data": {
      "text/plain": [
       "2.0"
      ]
     },
     "execution_count": 53,
     "metadata": {},
     "output_type": "execute_result"
    }
   ],
   "source": [
    "float(2)"
   ]
  },
  {
   "cell_type": "code",
   "execution_count": 57,
   "id": "44545f57",
   "metadata": {},
   "outputs": [
    {
     "data": {
      "text/plain": [
       "2"
      ]
     },
     "execution_count": 57,
     "metadata": {},
     "output_type": "execute_result"
    }
   ],
   "source": [
    "int(2.5)\n"
   ]
  },
  {
   "cell_type": "code",
   "execution_count": 55,
   "id": "916d32b7",
   "metadata": {},
   "outputs": [
    {
     "data": {
      "text/plain": [
       "'23'"
      ]
     },
     "execution_count": 55,
     "metadata": {},
     "output_type": "execute_result"
    }
   ],
   "source": [
    "str(23)"
   ]
  },
  {
   "cell_type": "code",
   "execution_count": 63,
   "id": "ef5c929e",
   "metadata": {},
   "outputs": [
    {
     "name": "stdout",
     "output_type": "stream",
     "text": [
      "enter the value of a2\n",
      "enter the value of b3\n",
      "True\n"
     ]
    }
   ],
   "source": [
    "a=input(\"enter the value of a\")\n",
    "b=input(\"enter the value of b\")\n",
    "e=int(a)\n",
    "f=int(b)\n",
    "c=2*e*3\n",
    "d=f/3\n",
    "print (c>d)"
   ]
  },
  {
   "cell_type": "code",
   "execution_count": 3,
   "id": "06096af2",
   "metadata": {},
   "outputs": [
    {
     "name": "stdout",
     "output_type": "stream",
     "text": [
      "enter the value of a3\n",
      "enter the value of b2\n",
      "True\n"
     ]
    }
   ],
   "source": [
    "a=input(\"enter the value of a\")\n",
    "b=input(\"enter the value of b\")\n",
    "s=int(a)\n",
    "g=int(b)\n",
    "c=2*s*3\n",
    "d=g/2\n",
    "print (c>d)"
   ]
  },
  {
   "cell_type": "code",
   "execution_count": 2,
   "id": "3e3807fc",
   "metadata": {},
   "outputs": [
    {
     "name": "stdout",
     "output_type": "stream",
     "text": [
      "enter the value of a3\n",
      "enter the value of b2\n",
      "True\n"
     ]
    }
   ],
   "source": [
    "a=input(\"enter the value of a\")\n",
    "b=input(\"enter the value of b\")\n",
    "s=int(a)\n",
    "g=int(b)\n",
    "c=2*s*3\n",
    "d=g/2\n",
    "print(c>d)\n"
   ]
  },
  {
   "cell_type": "code",
   "execution_count": 12,
   "id": "8c692ca5",
   "metadata": {},
   "outputs": [
    {
     "name": "stdout",
     "output_type": "stream",
     "text": [
      "enter the value of j3\n",
      "enter the value of h9\n",
      "False\n"
     ]
    }
   ],
   "source": [
    "j=input(\"enter the value of j\")\n",
    "h=input(\"enter the value of h\")\n",
    "l=int(j)\n",
    "s=int(h)\n",
    "f=3*j*7\n",
    "k=s/9\n",
    "print(f<k)\n"
   ]
  },
  {
   "cell_type": "code",
   "execution_count": 3,
   "id": "9249d25c",
   "metadata": {},
   "outputs": [
    {
     "name": "stdout",
     "output_type": "stream",
     "text": [
      "enter the value of m8\n",
      "enter the value of o0\n"
     ]
    },
    {
     "data": {
      "text/plain": [
       "True"
      ]
     },
     "execution_count": 3,
     "metadata": {},
     "output_type": "execute_result"
    }
   ],
   "source": [
    "m=input(\"enter the value of m\")\n",
    "o=input(\"enter the value of o\")\n",
    "b=int(m)\n",
    "n=int(o)\n",
    "b>n"
   ]
  },
  {
   "cell_type": "code",
   "execution_count": 1,
   "id": "58644d37",
   "metadata": {},
   "outputs": [],
   "source": [
    "x=\"\"\"hi my name is libass code\n",
    "lets code\"\"\""
   ]
  },
  {
   "cell_type": "code",
   "execution_count": 2,
   "id": "a35f1213",
   "metadata": {},
   "outputs": [
    {
     "name": "stdout",
     "output_type": "stream",
     "text": [
      "hi my name is libass code\n",
      "lets code\n"
     ]
    }
   ],
   "source": [
    "print(x)"
   ]
  },
  {
   "cell_type": "code",
   "execution_count": 21,
   "id": "7beb2886",
   "metadata": {},
   "outputs": [
    {
     "name": "stdout",
     "output_type": "stream",
     "text": [
      "[1, 5, 3, 4]\n"
     ]
    }
   ],
   "source": [
    "L=[1,2,3,4]  \n",
    "\n",
    "L[1]=5\n",
    "print(L)"
   ]
  },
  {
   "cell_type": "code",
   "execution_count": 19,
   "id": "79da668f",
   "metadata": {},
   "outputs": [
    {
     "data": {
      "text/plain": [
       "'e'"
      ]
     },
     "execution_count": 19,
     "metadata": {},
     "output_type": "execute_result"
    }
   ],
   "source": [
    "\n",
    "x=\"hello world\"\n",
    "x[1]"
   ]
  },
  {
   "cell_type": "code",
   "execution_count": 8,
   "id": "3380ef58",
   "metadata": {},
   "outputs": [],
   "source": [
    "#list and strings are iterable.\n",
    "\n"
   ]
  },
  {
   "cell_type": "code",
   "execution_count": 9,
   "id": "05bb9d80",
   "metadata": {},
   "outputs": [
    {
     "ename": "TypeError",
     "evalue": "'int' object is not subscriptable",
     "output_type": "error",
     "traceback": [
      "\u001b[1;31m---------------------------------------------------------------------------\u001b[0m",
      "\u001b[1;31mTypeError\u001b[0m                                 Traceback (most recent call last)",
      "Input \u001b[1;32mIn [9]\u001b[0m, in \u001b[0;36m<cell line: 2>\u001b[1;34m()\u001b[0m\n\u001b[0;32m      1\u001b[0m x\u001b[38;5;241m=\u001b[39m\u001b[38;5;241m23\u001b[39m\n\u001b[1;32m----> 2\u001b[0m \u001b[43mx\u001b[49m\u001b[43m[\u001b[49m\u001b[38;5;241;43m1\u001b[39;49m\u001b[43m]\u001b[49m\n",
      "\u001b[1;31mTypeError\u001b[0m: 'int' object is not subscriptable"
     ]
    }
   ],
   "source": [
    "x=23\n",
    "x[1]\n",
    " "
   ]
  },
  {
   "cell_type": "code",
   "execution_count": 10,
   "id": "39776bfd",
   "metadata": {},
   "outputs": [
    {
     "data": {
      "text/plain": [
       "'d'"
      ]
     },
     "execution_count": 10,
     "metadata": {},
     "output_type": "execute_result"
    }
   ],
   "source": [
    "x=\"hello world\"\n",
    "x[-1]"
   ]
  },
  {
   "cell_type": "code",
   "execution_count": 17,
   "id": "7697e84e",
   "metadata": {},
   "outputs": [
    {
     "name": "stdout",
     "output_type": "stream",
     "text": [
      "a\n",
      " \n",
      "b\n",
      "l\n",
      "a\n",
      "i am laiba \n"
     ]
    },
    {
     "ename": "TypeError",
     "evalue": "'str' object does not support item assignment",
     "output_type": "error",
     "traceback": [
      "\u001b[1;31m---------------------------------------------------------------------------\u001b[0m",
      "\u001b[1;31mTypeError\u001b[0m                                 Traceback (most recent call last)",
      "Input \u001b[1;32mIn [17]\u001b[0m, in \u001b[0;36m<cell line: 9>\u001b[1;34m()\u001b[0m\n\u001b[0;32m      7\u001b[0m \u001b[38;5;28mprint\u001b[39m (c[\u001b[38;5;241m10\u001b[39m])\n\u001b[0;32m      8\u001b[0m \u001b[38;5;28mprint\u001b[39m (c[\u001b[38;5;241m20\u001b[39m:\u001b[38;5;241m31\u001b[39m])\n\u001b[1;32m----> 9\u001b[0m c[\u001b[38;5;241m0\u001b[39m]\u001b[38;5;241m=\u001b[39m\u001b[38;5;241m1\u001b[39m\n",
      "\u001b[1;31mTypeError\u001b[0m: 'str' object does not support item assignment"
     ]
    }
   ],
   "source": [
    "c=\"bla bla bla bla bla i am laiba bla bla\"\n",
    "print (c[6])\n",
    "print (c[7]) \n",
    "\n",
    "print (c[8])\n",
    "print (c[9])\n",
    "print (c[10])\n",
    "print (c[20:31])\n",
    "c[0]=1\n",
    "\n"
   ]
  },
  {
   "cell_type": "code",
   "execution_count": 1,
   "id": "d25675fb",
   "metadata": {},
   "outputs": [],
   "source": [
    "# STRING IS NOT MUTEABLE(WE CANOT CHNGE IT )\n",
    "#LIST IS MUTEABLE(CAN BE CHNGE)\n"
   ]
  },
  {
   "cell_type": "code",
   "execution_count": 2,
   "id": "42d92071",
   "metadata": {},
   "outputs": [
    {
     "name": "stdout",
     "output_type": "stream",
     "text": [
      "IAM HUMAN\n",
      "iam human\n"
     ]
    }
   ],
   "source": [
    "a=\"iam human\"\n",
    "print(a.upper())\n",
    "print(a.lower())\n"
   ]
  },
  {
   "cell_type": "code",
   "execution_count": 18,
   "id": "4d85bae1",
   "metadata": {},
   "outputs": [
    {
     "data": {
      "text/plain": [
       "['zuhair', 'baig']"
      ]
     },
     "execution_count": 18,
     "metadata": {},
     "output_type": "execute_result"
    }
   ],
   "source": [
    "x=\"  zuhair baig  \"\n",
    "x.split()\n",
    "\n",
    "\n"
   ]
  },
  {
   "cell_type": "code",
   "execution_count": 20,
   "id": "f7958489",
   "metadata": {},
   "outputs": [
    {
     "name": "stdout",
     "output_type": "stream",
     "text": [
      "zuhair baig  \n"
     ]
    }
   ],
   "source": [
    "x.lstrip()\n",
    "x.rstrip()\n",
    "print(x.lstrip())\n"
   ]
  },
  {
   "cell_type": "code",
   "execution_count": 21,
   "id": "f3cb8685",
   "metadata": {},
   "outputs": [
    {
     "data": {
      "text/plain": [
       "'zuhair baig'"
      ]
     },
     "execution_count": 21,
     "metadata": {},
     "output_type": "execute_result"
    }
   ],
   "source": [
    "x.strip()"
   ]
  },
  {
   "cell_type": "code",
   "execution_count": 23,
   "id": "1bfec6e0",
   "metadata": {},
   "outputs": [
    {
     "data": {
      "text/plain": [
       "False"
      ]
     },
     "execution_count": 23,
     "metadata": {},
     "output_type": "execute_result"
    }
   ],
   "source": [
    "x.startswith(\"z\")"
   ]
  },
  {
   "cell_type": "code",
   "execution_count": 25,
   "id": "57c1639f",
   "metadata": {},
   "outputs": [
    {
     "data": {
      "text/plain": [
       "['data', 'sci', 'zohair', 'baig']"
      ]
     },
     "execution_count": 25,
     "metadata": {},
     "output_type": "execute_result"
    }
   ],
   "source": [
    "x=\"dataesciezohairebaig\"\n",
    "x.split(sep=\"e\")"
   ]
  },
  {
   "cell_type": "code",
   "execution_count": 1,
   "id": "6f281daf",
   "metadata": {},
   "outputs": [
    {
     "name": "stdout",
     "output_type": "stream",
     "text": [
      "I READ IN XO\n",
      "I read in xo\n",
      "i read in xo\n"
     ]
    }
   ],
   "source": [
    "l=\"i read in XO\"\n",
    "print(l.upper())\n",
    "print(l.capitalize())\n",
    "print(l.lower())"
   ]
  },
  {
   "cell_type": "code",
   "execution_count": 6,
   "id": "22c04350",
   "metadata": {},
   "outputs": [
    {
     "data": {
      "text/plain": [
       "['laiba', 'khalid']"
      ]
     },
     "execution_count": 6,
     "metadata": {},
     "output_type": "execute_result"
    }
   ],
   "source": [
    "x=\"laiba khalid\"\n",
    "x.split()"
   ]
  },
  {
   "cell_type": "code",
   "execution_count": 13,
   "id": "64e84adb",
   "metadata": {},
   "outputs": [
    {
     "name": "stdout",
     "output_type": "stream",
     "text": [
      "laiba khalid\n"
     ]
    }
   ],
   "source": [
    "x.lstrip()\n",
    "x.rstrip()\n",
    "print(x.lstrip())\n"
   ]
  },
  {
   "cell_type": "code",
   "execution_count": 14,
   "id": "ce5a5871",
   "metadata": {},
   "outputs": [
    {
     "data": {
      "text/plain": [
       "'laiba khalid'"
      ]
     },
     "execution_count": 14,
     "metadata": {},
     "output_type": "execute_result"
    }
   ],
   "source": [
    "x.strip()"
   ]
  },
  {
   "cell_type": "code",
   "execution_count": 17,
   "id": "ef9110bd",
   "metadata": {},
   "outputs": [
    {
     "data": {
      "text/plain": [
       "True"
      ]
     },
     "execution_count": 17,
     "metadata": {},
     "output_type": "execute_result"
    }
   ],
   "source": [
    "x.startswith(\"l\")\n"
   ]
  },
  {
   "cell_type": "code",
   "execution_count": 19,
   "id": "e74da318",
   "metadata": {},
   "outputs": [
    {
     "data": {
      "text/plain": [
       "['data', '', 'aibaab', 'e']"
      ]
     },
     "execution_count": 19,
     "metadata": {},
     "output_type": "execute_result"
    }
   ],
   "source": [
    "x=\"datallaibaable\"\n",
    "x.split(sep=\"l\")"
   ]
  },
  {
   "cell_type": "code",
   "execution_count": 1,
   "id": "07834b84",
   "metadata": {},
   "outputs": [
    {
     "name": "stdout",
     "output_type": "stream",
     "text": [
      "U ARE HUMAN\n",
      "u are human\n",
      "U are human\n"
     ]
    }
   ],
   "source": [
    "x=\"u are human\"\n",
    "print(x.upper())\n",
    "print(x.lower())\n",
    "print(x.capitalize())"
   ]
  },
  {
   "cell_type": "code",
   "execution_count": 2,
   "id": "0e9ca16c",
   "metadata": {},
   "outputs": [
    {
     "name": "stdout",
     "output_type": "stream",
     "text": [
      "Help on class list in module builtins:\n",
      "\n",
      "class list(object)\n",
      " |  list(iterable=(), /)\n",
      " |  \n",
      " |  Built-in mutable sequence.\n",
      " |  \n",
      " |  If no argument is given, the constructor creates a new empty list.\n",
      " |  The argument must be an iterable if specified.\n",
      " |  \n",
      " |  Methods defined here:\n",
      " |  \n",
      " |  __add__(self, value, /)\n",
      " |      Return self+value.\n",
      " |  \n",
      " |  __contains__(self, key, /)\n",
      " |      Return key in self.\n",
      " |  \n",
      " |  __delitem__(self, key, /)\n",
      " |      Delete self[key].\n",
      " |  \n",
      " |  __eq__(self, value, /)\n",
      " |      Return self==value.\n",
      " |  \n",
      " |  __ge__(self, value, /)\n",
      " |      Return self>=value.\n",
      " |  \n",
      " |  __getattribute__(self, name, /)\n",
      " |      Return getattr(self, name).\n",
      " |  \n",
      " |  __getitem__(...)\n",
      " |      x.__getitem__(y) <==> x[y]\n",
      " |  \n",
      " |  __gt__(self, value, /)\n",
      " |      Return self>value.\n",
      " |  \n",
      " |  __iadd__(self, value, /)\n",
      " |      Implement self+=value.\n",
      " |  \n",
      " |  __imul__(self, value, /)\n",
      " |      Implement self*=value.\n",
      " |  \n",
      " |  __init__(self, /, *args, **kwargs)\n",
      " |      Initialize self.  See help(type(self)) for accurate signature.\n",
      " |  \n",
      " |  __iter__(self, /)\n",
      " |      Implement iter(self).\n",
      " |  \n",
      " |  __le__(self, value, /)\n",
      " |      Return self<=value.\n",
      " |  \n",
      " |  __len__(self, /)\n",
      " |      Return len(self).\n",
      " |  \n",
      " |  __lt__(self, value, /)\n",
      " |      Return self<value.\n",
      " |  \n",
      " |  __mul__(self, value, /)\n",
      " |      Return self*value.\n",
      " |  \n",
      " |  __ne__(self, value, /)\n",
      " |      Return self!=value.\n",
      " |  \n",
      " |  __repr__(self, /)\n",
      " |      Return repr(self).\n",
      " |  \n",
      " |  __reversed__(self, /)\n",
      " |      Return a reverse iterator over the list.\n",
      " |  \n",
      " |  __rmul__(self, value, /)\n",
      " |      Return value*self.\n",
      " |  \n",
      " |  __setitem__(self, key, value, /)\n",
      " |      Set self[key] to value.\n",
      " |  \n",
      " |  __sizeof__(self, /)\n",
      " |      Return the size of the list in memory, in bytes.\n",
      " |  \n",
      " |  append(self, object, /)\n",
      " |      Append object to the end of the list.\n",
      " |  \n",
      " |  clear(self, /)\n",
      " |      Remove all items from list.\n",
      " |  \n",
      " |  copy(self, /)\n",
      " |      Return a shallow copy of the list.\n",
      " |  \n",
      " |  count(self, value, /)\n",
      " |      Return number of occurrences of value.\n",
      " |  \n",
      " |  extend(self, iterable, /)\n",
      " |      Extend list by appending elements from the iterable.\n",
      " |  \n",
      " |  index(self, value, start=0, stop=9223372036854775807, /)\n",
      " |      Return first index of value.\n",
      " |      \n",
      " |      Raises ValueError if the value is not present.\n",
      " |  \n",
      " |  insert(self, index, object, /)\n",
      " |      Insert object before index.\n",
      " |  \n",
      " |  pop(self, index=-1, /)\n",
      " |      Remove and return item at index (default last).\n",
      " |      \n",
      " |      Raises IndexError if list is empty or index is out of range.\n",
      " |  \n",
      " |  remove(self, value, /)\n",
      " |      Remove first occurrence of value.\n",
      " |      \n",
      " |      Raises ValueError if the value is not present.\n",
      " |  \n",
      " |  reverse(self, /)\n",
      " |      Reverse *IN PLACE*.\n",
      " |  \n",
      " |  sort(self, /, *, key=None, reverse=False)\n",
      " |      Sort the list in ascending order and return None.\n",
      " |      \n",
      " |      The sort is in-place (i.e. the list itself is modified) and stable (i.e. the\n",
      " |      order of two equal elements is maintained).\n",
      " |      \n",
      " |      If a key function is given, apply it once to each list item and sort them,\n",
      " |      ascending or descending, according to their function values.\n",
      " |      \n",
      " |      The reverse flag can be set to sort in descending order.\n",
      " |  \n",
      " |  ----------------------------------------------------------------------\n",
      " |  Class methods defined here:\n",
      " |  \n",
      " |  __class_getitem__(...) from builtins.type\n",
      " |      See PEP 585\n",
      " |  \n",
      " |  ----------------------------------------------------------------------\n",
      " |  Static methods defined here:\n",
      " |  \n",
      " |  __new__(*args, **kwargs) from builtins.type\n",
      " |      Create and return a new object.  See help(type) for accurate signature.\n",
      " |  \n",
      " |  ----------------------------------------------------------------------\n",
      " |  Data and other attributes defined here:\n",
      " |  \n",
      " |  __hash__ = None\n",
      "\n"
     ]
    }
   ],
   "source": [
    "help(list)"
   ]
  },
  {
   "cell_type": "code",
   "execution_count": 8,
   "id": "898fe3cd",
   "metadata": {},
   "outputs": [],
   "source": [
    "# data structures are list,dictioneries etc .\n",
    "#muteable is that we can change.\n",
    "#list can have duplicate items.\n",
    "#and can have a list witin it.#we use square brackets in it.\n",
    "# INDEX REPRESENTS THE POSITION IN THE LIST.\n",
    "# E=[1,2,3]\n",
    "#INDEX =[0,1,2]\n"
   ]
  },
  {
   "cell_type": "code",
   "execution_count": 11,
   "id": "444d2da4",
   "metadata": {},
   "outputs": [
    {
     "name": "stdout",
     "output_type": "stream",
     "text": [
      "1\n",
      "2\n",
      "3\n"
     ]
    }
   ],
   "source": [
    "L=[1,2,3]\n",
    "L[0]\n",
    "L[1]\n",
    "L[2]\n",
    "print(L[0])\n",
    "print(L[1])\n",
    "print(L[2])"
   ]
  },
  {
   "cell_type": "code",
   "execution_count": 19,
   "id": "7c34e41c",
   "metadata": {},
   "outputs": [],
   "source": [
    "b=[1,2,3]\n"
   ]
  },
  {
   "cell_type": "code",
   "execution_count": 17,
   "id": "bb6fda02",
   "metadata": {},
   "outputs": [
    {
     "data": {
      "text/plain": [
       "3"
      ]
     },
     "execution_count": 17,
     "metadata": {},
     "output_type": "execute_result"
    }
   ],
   "source": [
    "s[0]\n",
    "s[1]\n",
    "s[2]"
   ]
  },
  {
   "cell_type": "code",
   "execution_count": 21,
   "id": "fed924f1",
   "metadata": {},
   "outputs": [
    {
     "name": "stdout",
     "output_type": "stream",
     "text": [
      "1\n",
      "2\n",
      "3\n"
     ]
    }
   ],
   "source": [
    "print(b[0])\n",
    "print(b[1])\n",
    "print(b[2])"
   ]
  },
  {
   "cell_type": "code",
   "execution_count": 23,
   "id": "4e98b5f5",
   "metadata": {},
   "outputs": [
    {
     "data": {
      "text/plain": [
       "[3, 4, 5]"
      ]
     },
     "execution_count": 23,
     "metadata": {},
     "output_type": "execute_result"
    }
   ],
   "source": [
    "L=[1,2,3,4,5]\n",
    "L[2:5]"
   ]
  },
  {
   "cell_type": "markdown",
   "id": "c603862f",
   "metadata": {},
   "source": [
    "# Dictionaries\n",
    "dictionaries consists of keys and values.\n",
    "dict1={'keys\".values,\"key\".value...}\n",
    "\n"
   ]
  },
  {
   "cell_type": "code",
   "execution_count": 3,
   "id": "a362ac2a",
   "metadata": {},
   "outputs": [],
   "source": [
    "dict1={\"laiba\":20,\"shifa\":19\n",
    "     }"
   ]
  },
  {
   "cell_type": "code",
   "execution_count": 4,
   "id": "7fdf7843",
   "metadata": {},
   "outputs": [
    {
     "data": {
      "text/plain": [
       "20"
      ]
     },
     "execution_count": 4,
     "metadata": {},
     "output_type": "execute_result"
    }
   ],
   "source": [
    "dict1[\"laiba\"]"
   ]
  },
  {
   "cell_type": "code",
   "execution_count": 6,
   "id": "b3d73c20",
   "metadata": {},
   "outputs": [
    {
     "data": {
      "text/plain": [
       "19"
      ]
     },
     "execution_count": 6,
     "metadata": {},
     "output_type": "execute_result"
    }
   ],
   "source": [
    "dict1[\"shifa\"]\n"
   ]
  },
  {
   "cell_type": "markdown",
   "id": "62c9afe7",
   "metadata": {},
   "source": [
    "# Tuples \n",
    "is a scattered data. we cannot change its value."
   ]
  },
  {
   "cell_type": "code",
   "execution_count": 7,
   "id": "3ad3926c",
   "metadata": {},
   "outputs": [
    {
     "name": "stdout",
     "output_type": "stream",
     "text": [
      "Help on class tuple in module builtins:\n",
      "\n",
      "class tuple(object)\n",
      " |  tuple(iterable=(), /)\n",
      " |  \n",
      " |  Built-in immutable sequence.\n",
      " |  \n",
      " |  If no argument is given, the constructor returns an empty tuple.\n",
      " |  If iterable is specified the tuple is initialized from iterable's items.\n",
      " |  \n",
      " |  If the argument is a tuple, the return value is the same object.\n",
      " |  \n",
      " |  Built-in subclasses:\n",
      " |      asyncgen_hooks\n",
      " |      UnraisableHookArgs\n",
      " |  \n",
      " |  Methods defined here:\n",
      " |  \n",
      " |  __add__(self, value, /)\n",
      " |      Return self+value.\n",
      " |  \n",
      " |  __contains__(self, key, /)\n",
      " |      Return key in self.\n",
      " |  \n",
      " |  __eq__(self, value, /)\n",
      " |      Return self==value.\n",
      " |  \n",
      " |  __ge__(self, value, /)\n",
      " |      Return self>=value.\n",
      " |  \n",
      " |  __getattribute__(self, name, /)\n",
      " |      Return getattr(self, name).\n",
      " |  \n",
      " |  __getitem__(self, key, /)\n",
      " |      Return self[key].\n",
      " |  \n",
      " |  __getnewargs__(self, /)\n",
      " |  \n",
      " |  __gt__(self, value, /)\n",
      " |      Return self>value.\n",
      " |  \n",
      " |  __hash__(self, /)\n",
      " |      Return hash(self).\n",
      " |  \n",
      " |  __iter__(self, /)\n",
      " |      Implement iter(self).\n",
      " |  \n",
      " |  __le__(self, value, /)\n",
      " |      Return self<=value.\n",
      " |  \n",
      " |  __len__(self, /)\n",
      " |      Return len(self).\n",
      " |  \n",
      " |  __lt__(self, value, /)\n",
      " |      Return self<value.\n",
      " |  \n",
      " |  __mul__(self, value, /)\n",
      " |      Return self*value.\n",
      " |  \n",
      " |  __ne__(self, value, /)\n",
      " |      Return self!=value.\n",
      " |  \n",
      " |  __repr__(self, /)\n",
      " |      Return repr(self).\n",
      " |  \n",
      " |  __rmul__(self, value, /)\n",
      " |      Return value*self.\n",
      " |  \n",
      " |  count(self, value, /)\n",
      " |      Return number of occurrences of value.\n",
      " |  \n",
      " |  index(self, value, start=0, stop=9223372036854775807, /)\n",
      " |      Return first index of value.\n",
      " |      \n",
      " |      Raises ValueError if the value is not present.\n",
      " |  \n",
      " |  ----------------------------------------------------------------------\n",
      " |  Class methods defined here:\n",
      " |  \n",
      " |  __class_getitem__(...) from builtins.type\n",
      " |      See PEP 585\n",
      " |  \n",
      " |  ----------------------------------------------------------------------\n",
      " |  Static methods defined here:\n",
      " |  \n",
      " |  __new__(*args, **kwargs) from builtins.type\n",
      " |      Create and return a new object.  See help(type) for accurate signature.\n",
      "\n"
     ]
    }
   ],
   "source": [
    "help(tuple)"
   ]
  },
  {
   "cell_type": "code",
   "execution_count": 52,
   "id": "a8b75d90",
   "metadata": {},
   "outputs": [],
   "source": [
    "tup=(1,2,2,.3,4)"
   ]
  },
  {
   "cell_type": "code",
   "execution_count": 53,
   "id": "13378ecc",
   "metadata": {},
   "outputs": [
    {
     "data": {
      "text/plain": [
       "2"
      ]
     },
     "execution_count": 53,
     "metadata": {},
     "output_type": "execute_result"
    }
   ],
   "source": [
    "tup.count(2)"
   ]
  },
  {
   "cell_type": "markdown",
   "id": "c8189986",
   "metadata": {},
   "source": [
    "# Loops\n",
    "1. while loop\n",
    "2. for loop\n"
   ]
  },
  {
   "cell_type": "code",
   "execution_count": 17,
   "id": "391cfc2b",
   "metadata": {},
   "outputs": [
    {
     "name": "stdout",
     "output_type": "stream",
     "text": [
      "0\n",
      "1\n",
      "2\n",
      "3\n",
      "4\n",
      "5\n",
      "6\n",
      "7\n",
      "8\n",
      "9\n"
     ]
    }
   ],
   "source": [
    "a=0\n",
    "while a<10:\n",
    "    print(a)\n",
    "    a=a+1"
   ]
  },
  {
   "cell_type": "code",
   "execution_count": 19,
   "id": "fa58de2f",
   "metadata": {},
   "outputs": [
    {
     "name": "stdout",
     "output_type": "stream",
     "text": [
      "0\n",
      "1\n",
      "2\n",
      "3\n",
      "4\n"
     ]
    }
   ],
   "source": [
    "l=[0,1,2,3,4]\n",
    "for i in l:\n",
    "    print(i)\n",
    "    \n",
    "  "
   ]
  },
  {
   "cell_type": "code",
   "execution_count": 21,
   "id": "abfd9d61",
   "metadata": {},
   "outputs": [
    {
     "name": "stdout",
     "output_type": "stream",
     "text": [
      "0\n",
      "1\n",
      "2\n",
      "3\n",
      "4\n",
      "5\n",
      "6\n",
      "7\n",
      "8\n",
      "9\n"
     ]
    }
   ],
   "source": [
    "for i in range (10):\n",
    "    print(i)\n",
    "         "
   ]
  },
  {
   "cell_type": "code",
   "execution_count": 23,
   "id": "b0a3fb37",
   "metadata": {},
   "outputs": [
    {
     "name": "stdout",
     "output_type": "stream",
     "text": [
      "1\n",
      "2\n",
      "3\n",
      "4\n",
      "5\n"
     ]
    }
   ],
   "source": [
    "c=[1,2,3,4,5]\n",
    "for l in c :\n",
    "    print(l)\n",
    "    "
   ]
  },
  {
   "cell_type": "markdown",
   "id": "6eaf41f1",
   "metadata": {},
   "source": []
  },
  {
   "cell_type": "code",
   "execution_count": 44,
   "id": "98900e14",
   "metadata": {},
   "outputs": [
    {
     "name": "stdout",
     "output_type": "stream",
     "text": [
      "14\n",
      "60\n"
     ]
    }
   ],
   "source": [
    "dict3={\"my friend is\":14,\n",
    "\"she scored\":60\n",
    "     }\n",
    "for a in dict3:\n",
    "    print(dict3[a])\n",
    "    \n",
    "\n"
   ]
  },
  {
   "cell_type": "code",
   "execution_count": 1,
   "id": "1dc2c2e6",
   "metadata": {},
   "outputs": [
    {
     "name": "stdout",
     "output_type": "stream",
     "text": [
      "2\n",
      "11\n"
     ]
    }
   ],
   "source": [
    "dict4={\"her lucky number is\":2,\n",
    "      \"she wakes up at\": 11\n",
    "    }\n",
    "for i in dict4:\n",
    "    print(dict4[i])"
   ]
  },
  {
   "cell_type": "code",
   "execution_count": 16,
   "id": "fe48293f",
   "metadata": {},
   "outputs": [
    {
     "name": "stdout",
     "output_type": "stream",
     "text": [
      "M\n",
      "d\n",
      "y\n",
      "a\n",
      " \n",
      "t\n",
      "n\n",
      "a\n",
      "a\n",
      " \n",
      "m\n",
      "i\n",
      "e\n",
      "s\n",
      " \n",
      " \n",
      "i\n",
      "g\n",
      "s\n",
      "o\n"
     ]
    }
   ],
   "source": [
    "str1 = \"My name is\"\n",
    "str2 = \"data is go\"\n",
    "i=0\n",
    "while i <10:\n",
    "    print(str1[i])\n",
    "    print(str2[i])\n",
    "    i=i+1"
   ]
  },
  {
   "cell_type": "markdown",
   "id": "7a22096a",
   "metadata": {},
   "source": [
    "\n"
   ]
  },
  {
   "cell_type": "code",
   "execution_count": 24,
   "id": "c21c4e72",
   "metadata": {},
   "outputs": [
    {
     "name": "stdout",
     "output_type": "stream",
     "text": [
      "m\n",
      "d\n",
      "y\n",
      "a\n",
      " \n",
      "t\n",
      "n\n",
      "a\n",
      "a\n",
      " \n",
      "m\n",
      "i\n",
      "e\n",
      "s\n"
     ]
    }
   ],
   "source": [
    "A1=\"my name is\"\n",
    "A2=\"data is go\"\n",
    "o=0\n",
    "while o<7:\n",
    "\n",
    "    print(A1[o])\n",
    "    print(A2[o])\n",
    "    o=o+1\n",
    "    "
   ]
  },
  {
   "cell_type": "markdown",
   "id": "215a5e5f",
   "metadata": {},
   "source": [
    "# If Else "
   ]
  },
  {
   "cell_type": "markdown",
   "id": "4aa66135",
   "metadata": {},
   "source": [
    "If else is conditonal statement"
   ]
  },
  {
   "cell_type": "code",
   "execution_count": 1,
   "id": "f82e0c15",
   "metadata": {},
   "outputs": [
    {
     "name": "stdout",
     "output_type": "stream",
     "text": [
      "You can apply for id\n"
     ]
    }
   ],
   "source": [
    "x=19\n",
    "if x>18:\n",
    "    print(\"You can apply for id\")\n",
    "else:\n",
    "    print(\"you are under 18\")"
   ]
  },
  {
   "cell_type": "code",
   "execution_count": 3,
   "id": "74af3589",
   "metadata": {},
   "outputs": [
    {
     "name": "stdout",
     "output_type": "stream",
     "text": [
      "you are under 18\n"
     ]
    }
   ],
   "source": [
    "x=17\n",
    "if x>18:\n",
    "    print(\"you can apply for id\")\n",
    "else:\n",
    "    print(\"you are under 18\")"
   ]
  },
  {
   "cell_type": "markdown",
   "id": "d3be9cea",
   "metadata": {},
   "source": [
    "# If Alis marks are greatewr than 50 print Pass else print Fail"
   ]
  },
  {
   "cell_type": "code",
   "execution_count": 8,
   "id": "78e5338b",
   "metadata": {},
   "outputs": [
    {
     "name": "stdout",
     "output_type": "stream",
     "text": [
      "he is pass\n"
     ]
    }
   ],
   "source": [
    "a=70\n",
    "if a>50:\n",
    "   \n",
    " print(\"he is pass\")\n",
    "else:    \n",
    "    print(\"he is fail\")"
   ]
  },
  {
   "cell_type": "markdown",
   "id": "7e5f2c04",
   "metadata": {},
   "source": [
    "# A House is being built how many lights are required for the house write a program that uses information to gues the number of lights in the house"
   ]
  },
  {
   "cell_type": "code",
   "execution_count": 21,
   "id": "764333d0",
   "metadata": {},
   "outputs": [
    {
     "name": "stdout",
     "output_type": "stream",
     "text": [
      "lights 4\n"
     ]
    }
   ],
   "source": [
    "Room=4\n",
    "print(\"lights\" , Room)"
   ]
  },
  {
   "cell_type": "markdown",
   "id": "45dc80c2",
   "metadata": {},
   "source": [
    "# Use a for loop to print all the elements of the list\n"
   ]
  },
  {
   "cell_type": "code",
   "execution_count": 25,
   "id": "380eb95d",
   "metadata": {},
   "outputs": [
    {
     "name": "stdout",
     "output_type": "stream",
     "text": [
      "1\n",
      "2\n",
      "3\n",
      "4\n",
      "5\n"
     ]
    }
   ],
   "source": [
    "l = [1,2,3,4,5]\n",
    "for i in l: \n",
    "    print(i) \n",
    "\n"
   ]
  },
  {
   "cell_type": "markdown",
   "id": "6249ef0f",
   "metadata": {},
   "source": [
    "# Print the greatest element in the list using the if else statement and the for loop"
   ]
  },
  {
   "cell_type": "code",
   "execution_count": 31,
   "id": "88140324",
   "metadata": {},
   "outputs": [
    {
     "name": "stdout",
     "output_type": "stream",
     "text": [
      "1\n",
      "1\n",
      "1\n",
      "2\n",
      "2\n",
      "3\n"
     ]
    }
   ],
   "source": [
    "l=[1,2,3,4]\n"
   ]
  },
  {
   "cell_type": "code",
   "execution_count": 3,
   "id": "5e3c4443",
   "metadata": {},
   "outputs": [
    {
     "name": "stdout",
     "output_type": "stream",
     "text": [
      "4\n"
     ]
    }
   ],
   "source": [
    "l=[1,2,3,4]\n",
    "min(l)\n",
    "print(max(l))"
   ]
  },
  {
   "cell_type": "markdown",
   "id": "ef6f1f78",
   "metadata": {},
   "source": [
    "# swap element using if else\n",
    "\n",
    "\n"
   ]
  },
  {
   "cell_type": "code",
   "execution_count": 9,
   "id": "77217dd9",
   "metadata": {},
   "outputs": [
    {
     "name": "stdout",
     "output_type": "stream",
     "text": [
      "[1, 44, 55, 5]\n"
     ]
    }
   ],
   "source": [
    "om=[1,44,55,66]\n",
    "om[3]=5\n",
    "print(om)"
   ]
  },
  {
   "cell_type": "code",
   "execution_count": 12,
   "id": "24b356e5",
   "metadata": {},
   "outputs": [
    {
     "name": "stdout",
     "output_type": "stream",
     "text": [
      "[90, 98, 9]\n"
     ]
    }
   ],
   "source": [
    "lf=[90,98,67]\n",
    "lf[2]=9\n",
    "print(lf)"
   ]
  },
  {
   "cell_type": "markdown",
   "id": "fdb35d64",
   "metadata": {},
   "source": [
    "# index"
   ]
  },
  {
   "cell_type": "code",
   "execution_count": 16,
   "id": "af7492af",
   "metadata": {},
   "outputs": [
    {
     "data": {
      "text/plain": [
       "0"
      ]
     },
     "execution_count": 16,
     "metadata": {},
     "output_type": "execute_result"
    }
   ],
   "source": [
    "lf.index(90)"
   ]
  },
  {
   "cell_type": "code",
   "execution_count": 17,
   "id": "db99deef",
   "metadata": {},
   "outputs": [
    {
     "name": "stdout",
     "output_type": "stream",
     "text": [
      "[90]\n"
     ]
    }
   ],
   "source": [
    "max(lf)\n",
    "print(lf)"
   ]
  },
  {
   "cell_type": "code",
   "execution_count": 18,
   "id": "187661f7",
   "metadata": {},
   "outputs": [
    {
     "data": {
      "text/plain": [
       "0"
      ]
     },
     "execution_count": 18,
     "metadata": {},
     "output_type": "execute_result"
    }
   ],
   "source": [
    "lf.index(90)"
   ]
  },
  {
   "cell_type": "markdown",
   "id": "6eb6e13c",
   "metadata": {},
   "source": [
    "# sorting is use to arrange in acending to decending.\n",
    "."
   ]
  },
  {
   "cell_type": "code",
   "execution_count": 22,
   "id": "48f3d840",
   "metadata": {},
   "outputs": [],
   "source": [
    "l = [4,3,2,1]\n",
    "c=[]\n",
    "for i in range(len(l)):\n",
    "    a=min(l)\n",
    "    x=l.index(a)\n",
    "    l.pop(x)\n",
    "    c.append(a)\n",
    "    \n",
    "    \n",
    "    "
   ]
  },
  {
   "cell_type": "code",
   "execution_count": 5,
   "id": "d4f04986",
   "metadata": {},
   "outputs": [
    {
     "data": {
      "text/plain": [
       "[1, 2, 3, 4]"
      ]
     },
     "execution_count": 5,
     "metadata": {},
     "output_type": "execute_result"
    }
   ],
   "source": [
    "c"
   ]
  },
  {
   "cell_type": "code",
   "execution_count": 3,
   "id": "0d6d72da",
   "metadata": {},
   "outputs": [
    {
     "data": {
      "text/plain": [
       "[1, 2, 3]"
      ]
     },
     "execution_count": 3,
     "metadata": {},
     "output_type": "execute_result"
    }
   ],
   "source": [
    "l=[1,2,3,4]\n",
    "l.pop(3)\n",
    "l"
   ]
  },
  {
   "cell_type": "code",
   "execution_count": 40,
   "id": "471821e5",
   "metadata": {},
   "outputs": [],
   "source": [
    "o=[1,2,3,4]\n",
    "s=[]\n",
    "for y in range(len(o)):\n",
    "    d=max(o)\n",
    "    h=o.index(d)\n",
    "    o.pop(h)\n",
    "    s.append(d)"
   ]
  },
  {
   "cell_type": "code",
   "execution_count": 41,
   "id": "8b056643",
   "metadata": {},
   "outputs": [
    {
     "data": {
      "text/plain": [
       "[4, 3, 2, 1]"
      ]
     },
     "execution_count": 41,
     "metadata": {},
     "output_type": "execute_result"
    }
   ],
   "source": [
    "\n",
    "\n",
    "\n",
    "s\n"
   ]
  },
  {
   "cell_type": "code",
   "execution_count": 42,
   "id": "940b2a88",
   "metadata": {},
   "outputs": [
    {
     "data": {
      "text/plain": [
       "[1, 4, 5]"
      ]
     },
     "execution_count": 42,
     "metadata": {},
     "output_type": "execute_result"
    }
   ],
   "source": [
    "f=[1,2,4,5]\n",
    "f.pop(1)\n",
    "f"
   ]
  },
  {
   "cell_type": "code",
   "execution_count": 48,
   "id": "6a9be957",
   "metadata": {},
   "outputs": [],
   "source": [
    "dic={\"laiba\":2,\n",
    "     \"shifa\":3}\n",
    "\n",
    "\n"
   ]
  },
  {
   "cell_type": "code",
   "execution_count": 49,
   "id": "3670a56e",
   "metadata": {},
   "outputs": [
    {
     "data": {
      "text/plain": [
       "2"
      ]
     },
     "execution_count": 49,
     "metadata": {},
     "output_type": "execute_result"
    }
   ],
   "source": [
    "dic[\"laiba\"]"
   ]
  },
  {
   "cell_type": "code",
   "execution_count": 55,
   "id": "85affe4d",
   "metadata": {},
   "outputs": [
    {
     "data": {
      "text/plain": [
       "dict_values([6, 6, 8, 8, 9])"
      ]
     },
     "execution_count": 55,
     "metadata": {},
     "output_type": "execute_result"
    }
   ],
   "source": [
    "dic8={\"lisa\":6,\n",
    "   \"lina\":6,\n",
    "   \"elxa\":8,\n",
    "   \"hermony\":8,\n",
    "  \"harry\":9,\n",
    "    }\n",
    "dic8.values()\n"
   ]
  },
  {
   "cell_type": "markdown",
   "id": "6954bc3b",
   "metadata": {},
   "source": [
    "# Functions"
   ]
  },
  {
   "cell_type": "markdown",
   "id": "389d0cd3",
   "metadata": {},
   "source": [
    "writing a function that calculates the sum of two numbers"
   ]
  },
  {
   "cell_type": "code",
   "execution_count": 8,
   "id": "6b4e1d72",
   "metadata": {},
   "outputs": [],
   "source": [
    "def sum1(a,b):\n",
    "    return(a+b)"
   ]
  },
  {
   "cell_type": "markdown",
   "id": "cb9a2103",
   "metadata": {},
   "source": [
    "now calling the function"
   ]
  },
  {
   "cell_type": "code",
   "execution_count": 9,
   "id": "d294b88d",
   "metadata": {},
   "outputs": [
    {
     "data": {
      "text/plain": [
       "10"
      ]
     },
     "execution_count": 9,
     "metadata": {},
     "output_type": "execute_result"
    }
   ],
   "source": [
    "sum1(5,5)"
   ]
  },
  {
   "cell_type": "markdown",
   "id": "1645421c",
   "metadata": {},
   "source": [
    "QUESTION Write a function to find the difference of two numbers"
   ]
  },
  {
   "cell_type": "code",
   "execution_count": 18,
   "id": "4e23c7a8",
   "metadata": {},
   "outputs": [],
   "source": [
    "def difrence2(b,c):\n",
    "    return(b-c)\n"
   ]
  },
  {
   "cell_type": "code",
   "execution_count": 19,
   "id": "707a6d58",
   "metadata": {},
   "outputs": [
    {
     "data": {
      "text/plain": [
       "0"
      ]
     },
     "execution_count": 19,
     "metadata": {},
     "output_type": "execute_result"
    }
   ],
   "source": [
    "difrence2(4,4)"
   ]
  },
  {
   "cell_type": "markdown",
   "id": "d6d833c8",
   "metadata": {},
   "source": [
    "Write a function for sorting in asscending order"
   ]
  },
  {
   "cell_type": "code",
   "execution_count": 20,
   "id": "069eaaa1",
   "metadata": {},
   "outputs": [],
   "source": [
    " l = [4,3,2,1]\n",
    "def sorting1(l):\n",
    "    c=[]\n",
    "    for i in range(len(l)):\n",
    "        a=min(l)\n",
    "        x=l.index(a)\n",
    "        l.pop(x)\n",
    "        c.append(a)\n",
    "    return(c)\n",
    "    "
   ]
  },
  {
   "cell_type": "code",
   "execution_count": 21,
   "id": "1e3b4bf1",
   "metadata": {},
   "outputs": [
    {
     "data": {
      "text/plain": [
       "[1, 2, 3, 4]"
      ]
     },
     "execution_count": 21,
     "metadata": {},
     "output_type": "execute_result"
    }
   ],
   "source": [
    "sorting1(l)"
   ]
  },
  {
   "cell_type": "code",
   "execution_count": 30,
   "id": "de52b8fa",
   "metadata": {},
   "outputs": [],
   "source": [
    "z=[7,8,9,10]\n",
    "def sorting2(z):\n",
    "    c=[]\n",
    "    for i in range(len(z)):\n",
    "        a=max(z)\n",
    "        x=z.index(a)\n",
    "        z.pop(x)\n",
    "        c.append(a)\n",
    "    return(c)  \n",
    "\n",
    "\n",
    "    "
   ]
  },
  {
   "cell_type": "code",
   "execution_count": 31,
   "id": "a17ecdfb",
   "metadata": {},
   "outputs": [
    {
     "data": {
      "text/plain": [
       "[10, 9, 8, 7]"
      ]
     },
     "execution_count": 31,
     "metadata": {},
     "output_type": "execute_result"
    }
   ],
   "source": [
    "sorting2(z)"
   ]
  },
  {
   "cell_type": "code",
   "execution_count": 10,
   "id": "a9c25338",
   "metadata": {},
   "outputs": [],
   "source": [
    "f=[8,9,6,5]\n",
    "def sorting3(f):\n",
    "    d=[]\n",
    "    for i in range(len(f)):\n",
    "        a=min(f)\n",
    "        x=f.index(a)\n",
    "        f.pop(x)\n",
    "        d.append(a)\n",
    "    return(d)       "
   ]
  },
  {
   "cell_type": "code",
   "execution_count": 11,
   "id": "4911517e",
   "metadata": {},
   "outputs": [
    {
     "data": {
      "text/plain": [
       "[5, 6, 8, 9]"
      ]
     },
     "execution_count": 11,
     "metadata": {},
     "output_type": "execute_result"
    }
   ],
   "source": [
    "sorting3(f)"
   ]
  },
  {
   "cell_type": "code",
   "execution_count": 47,
   "id": "bedefec5",
   "metadata": {},
   "outputs": [],
   "source": [
    "l = [2,2,3,5]\n",
    "max=l[3]\n",
    "for i in l:\n",
    "    if i >max:\n",
    "        max = i"
   ]
  },
  {
   "cell_type": "code",
   "execution_count": 48,
   "id": "105c9bcb",
   "metadata": {},
   "outputs": [
    {
     "data": {
      "text/plain": [
       "5"
      ]
     },
     "execution_count": 48,
     "metadata": {},
     "output_type": "execute_result"
    }
   ],
   "source": [
    "max\n"
   ]
  },
  {
   "cell_type": "code",
   "execution_count": 50,
   "id": "885b7710",
   "metadata": {},
   "outputs": [],
   "source": [
    "a=5,4"
   ]
  },
  {
   "cell_type": "code",
   "execution_count": 51,
   "id": "b8fa0fca",
   "metadata": {},
   "outputs": [
    {
     "data": {
      "text/plain": [
       "tuple"
      ]
     },
     "execution_count": 51,
     "metadata": {},
     "output_type": "execute_result"
    }
   ],
   "source": [
    "type(a)"
   ]
  },
  {
   "cell_type": "markdown",
   "id": "69d205f4",
   "metadata": {},
   "source": [
    "# globel variable and local variable"
   ]
  },
  {
   "cell_type": "code",
   "execution_count": 70,
   "id": "ad83fd21",
   "metadata": {},
   "outputs": [
    {
     "name": "stdout",
     "output_type": "stream",
     "text": [
      "1\n",
      "2\n",
      "3\n"
     ]
    }
   ],
   "source": [
    "l=[1,2,3]\n",
    "def lp(l):\n",
    "    global p\n",
    "    p=0\n",
    "    for p in l:\n",
    "        print(p)\n",
    "lp(l)"
   ]
  },
  {
   "cell_type": "code",
   "execution_count": 71,
   "id": "ae1927f1",
   "metadata": {},
   "outputs": [
    {
     "name": "stdout",
     "output_type": "stream",
     "text": [
      "3\n"
     ]
    }
   ],
   "source": [
    "print(p)"
   ]
  },
  {
   "cell_type": "markdown",
   "id": "c6b9aee9",
   "metadata": {},
   "source": [
    "# numpy"
   ]
  },
  {
   "cell_type": "code",
   "execution_count": 1,
   "id": "492d9a9b",
   "metadata": {},
   "outputs": [
    {
     "name": "stdout",
     "output_type": "stream",
     "text": [
      "Requirement already satisfied: numpy in c:\\users\\fb trader\\anaconda3\\lib\\site-packages (1.21.5)Note: you may need to restart the kernel to use updated packages.\n",
      "\n"
     ]
    }
   ],
   "source": [
    "pip install numpy"
   ]
  },
  {
   "cell_type": "code",
   "execution_count": 3,
   "id": "0113e822",
   "metadata": {},
   "outputs": [],
   "source": [
    "import numpy as np"
   ]
  },
  {
   "cell_type": "code",
   "execution_count": 6,
   "id": "bbd800d5",
   "metadata": {},
   "outputs": [],
   "source": [
    "noofsales= np.array([[1,2,0],\n",
    "        [1,1,2],\n",
    "        [0,0,2]])"
   ]
  },
  {
   "cell_type": "code",
   "execution_count": 7,
   "id": "0f506ff7",
   "metadata": {},
   "outputs": [],
   "source": [
    "price = np.array([[10],\n",
    "                 [50],\n",
    "                 [20]])"
   ]
  },
  {
   "cell_type": "code",
   "execution_count": 10,
   "id": "167a611f",
   "metadata": {},
   "outputs": [
    {
     "data": {
      "text/plain": [
       "(3, 3)"
      ]
     },
     "execution_count": 10,
     "metadata": {},
     "output_type": "execute_result"
    }
   ],
   "source": [
    "noofsales.shape"
   ]
  },
  {
   "cell_type": "code",
   "execution_count": 11,
   "id": "d55b6d2e",
   "metadata": {},
   "outputs": [
    {
     "data": {
      "text/plain": [
       "(3, 1)"
      ]
     },
     "execution_count": 11,
     "metadata": {},
     "output_type": "execute_result"
    }
   ],
   "source": [
    "price.shape"
   ]
  },
  {
   "cell_type": "code",
   "execution_count": 12,
   "id": "ab058775",
   "metadata": {},
   "outputs": [],
   "source": [
    "x=price.transpose()"
   ]
  },
  {
   "cell_type": "code",
   "execution_count": 13,
   "id": "ea8a4b48",
   "metadata": {},
   "outputs": [
    {
     "data": {
      "text/plain": [
       "array([[10, 50, 20]])"
      ]
     },
     "execution_count": 13,
     "metadata": {},
     "output_type": "execute_result"
    }
   ],
   "source": [
    "x"
   ]
  },
  {
   "cell_type": "code",
   "execution_count": 14,
   "id": "3482d86d",
   "metadata": {},
   "outputs": [],
   "source": [
    "daysales=noofsales*x"
   ]
  },
  {
   "cell_type": "code",
   "execution_count": 15,
   "id": "b9f6c601",
   "metadata": {},
   "outputs": [
    {
     "data": {
      "text/plain": [
       "array([[ 10, 100,   0],\n",
       "       [ 10,  50,  40],\n",
       "       [  0,   0,  40]])"
      ]
     },
     "execution_count": 15,
     "metadata": {},
     "output_type": "execute_result"
    }
   ],
   "source": [
    "daysales"
   ]
  },
  {
   "cell_type": "code",
   "execution_count": 26,
   "id": "2056059e",
   "metadata": {},
   "outputs": [
    {
     "data": {
      "text/plain": [
       "array([ 0,  1,  2,  3,  4,  5,  6,  7,  8,  9, 10, 11, 12, 13, 14, 15, 16,\n",
       "       17, 18, 19, 20, 21, 22, 23, 24, 25, 26, 27, 28, 29, 30, 31, 32, 33,\n",
       "       34, 35, 36, 37, 38, 39, 40, 41, 42, 43, 44, 45, 46, 47, 48, 49, 50,\n",
       "       51, 52, 53, 54, 55, 56, 57, 58, 59, 60, 61, 62, 63, 64, 65, 66, 67,\n",
       "       68, 69, 70, 71, 72, 73, 74, 75, 76, 77, 78, 79, 80, 81, 82, 83, 84,\n",
       "       85, 86, 87, 88, 89, 90, 91, 92, 93, 94, 95, 96, 97, 98, 99])"
      ]
     },
     "execution_count": 26,
     "metadata": {},
     "output_type": "execute_result"
    }
   ],
   "source": [
    "np.arange(100)"
   ]
  },
  {
   "cell_type": "code",
   "execution_count": 25,
   "id": "fb5ddc22",
   "metadata": {},
   "outputs": [
    {
     "name": "stdout",
     "output_type": "stream",
     "text": [
      "\f",
      "\n"
     ]
    }
   ],
   "source": [
    "cls"
   ]
  },
  {
   "cell_type": "code",
   "execution_count": null,
   "id": "9ebd2f50",
   "metadata": {},
   "outputs": [],
   "source": []
  }
 ],
 "metadata": {
  "kernelspec": {
   "display_name": "Python 3 (ipykernel)",
   "language": "python",
   "name": "python3"
  },
  "language_info": {
   "codemirror_mode": {
    "name": "ipython",
    "version": 3
   },
   "file_extension": ".py",
   "mimetype": "text/x-python",
   "name": "python",
   "nbconvert_exporter": "python",
   "pygments_lexer": "ipython3",
   "version": "3.9.12"
  }
 },
 "nbformat": 4,
 "nbformat_minor": 5
}
